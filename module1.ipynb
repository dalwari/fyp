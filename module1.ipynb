{
  "nbformat": 4,
  "nbformat_minor": 0,
  "metadata": {
    "colab": {
      "name": "module1.ipynb",
      "provenance": []
    },
    "kernelspec": {
      "name": "python3",
      "display_name": "Python 3"
    },
    "language_info": {
      "name": "python"
    }
  },
  "cells": [
    {
      "cell_type": "code",
      "metadata": {
        "id": "2Fj2g-562Qcp"
      },
      "source": [
        "from PIL import Image, ImageDraw,ImageFont"
      ],
      "execution_count": 1,
      "outputs": []
    },
    {
      "cell_type": "code",
      "metadata": {
        "colab": {
          "base_uri": "https://localhost:8080/",
          "height": 267
        },
        "id": "M5Qmgibe3zw3",
        "outputId": "48aebad1-485f-4ff8-b3b5-69b4297c7a4e"
      },
      "source": [
        "img = Image.new('RGB', (330, 250), color = (73, 109, 137))\n",
        "img"
      ],
      "execution_count": 2,
      "outputs": [
        {
          "output_type": "execute_result",
          "data": {
            "image/png": "[encoded data removed]",
            "text/plain": [
              "<PIL.Image.Image image mode=RGB size=330x250 at 0x7F34E726D2D0>"
            ]
          },
          "metadata": {},
          "execution_count": 2
        }
      ]
    },
    {
      "cell_type": "code",
      "metadata": {
        "colab": {
          "base_uri": "https://localhost:8080/"
        },
        "id": "d3dUf3EVeEhH",
        "outputId": "91847ff2-cfa0-46b1-8ec4-1a3d772521fb"
      },
      "source": [
        "msg=\"\"\"In 2020, India's ten largest trading partners were the United States, China, the United Arab Emirates (UAE), Saudi Arabia, Switzerland, Germany, Hong Kong, Indonesia, South Korea, and Malaysia.\n",
        "In 2019–20, the foreign direct investment (FDI) in India was $74.4 billion. \n",
        "The leading sectors for FDI inflows were the service sector, the computer industry, and the telecom industry.\n",
        "India has free trade agreements with several nations, including ASEAN, SAFTA, Mercosur, South Korea, Japan, and several others which are in effect or under negotiating stage.\"\"\"\n",
        "no_of_lines=len(msg.split('\\n'))\n",
        "mylist=[]\n",
        "slist=msg.split('\\n')\n",
        "for m in msg.split('\\n'):\n",
        "  mylist.append(len(m.split(' ')))\n",
        "  print(len(m.split(' ')))"
      ],
      "execution_count": 3,
      "outputs": [
        {
          "output_type": "stream",
          "name": "stdout",
          "text": [
            "28\n",
            "13\n",
            "17\n",
            "26\n"
          ]
        }
      ]
    },
    {
      "cell_type": "code",
      "metadata": {
        "id": "BxwEB4P2i2_8"
      },
      "source": [
        "w=max(mylist)*50\n",
        "l=no_of_lines*100"
      ],
      "execution_count": 4,
      "outputs": []
    },
    {
      "cell_type": "code",
      "metadata": {
        "colab": {
          "base_uri": "https://localhost:8080/",
          "height": 87
        },
        "id": "oGgL_A4au_-r",
        "outputId": "45027319-e376-4916-a5ce-fece699f57e6"
      },
      "source": [
        "dmsg=\"In 2020, India's ten largest trading partners were the United States, China, the United Arab Emirates (UAE), Saudi Arabia, Switzerland, Germany, Hong Kong, Indonesia, South Korea, and Malaysia.\\nIn 2019 to 2020, the foreign direct investment in India was $74.4 billion.\\nThe leading sectors for FDI inflows were the service sector, the computer industry, and the telecom industry.\\nIndia has free trade agreements with several nations, including ASEAN, SAFTA, Mercosur, South Korea, Japan, and several others which are in effect or under negotiating stage.\"\n",
        "dmsg"
      ],
      "execution_count": 5,
      "outputs": [
        {
          "output_type": "execute_result",
          "data": {
            "application/vnd.google.colaboratory.intrinsic+json": {
              "type": "string"
            },
            "text/plain": [
              "\"In 2020, India's ten largest trading partners were the United States, China, the United Arab Emirates (UAE), Saudi Arabia, Switzerland, Germany, Hong Kong, Indonesia, South Korea, and Malaysia.\\nIn 2019 to 2020, the foreign direct investment in India was $74.4 billion.\\nThe leading sectors for FDI inflows were the service sector, the computer industry, and the telecom industry.\\nIndia has free trade agreements with several nations, including ASEAN, SAFTA, Mercosur, South Korea, Japan, and several others which are in effect or under negotiating stage.\""
            ]
          },
          "metadata": {},
          "execution_count": 5
        }
      ]
    },
    {
      "cell_type": "code",
      "metadata": {
        "colab": {
          "base_uri": "https://localhost:8080/"
        },
        "id": "mIYjN3RzCPse",
        "outputId": "57139a45-9a1e-4e5a-9eab-6bec87a8c08f"
      },
      "source": [
        "dir(ImageFont)"
      ],
      "execution_count": null,
      "outputs": [
        {
          "output_type": "execute_result",
          "data": {
            "text/plain": [
              "['BytesIO',\n",
              " 'FreeTypeFont',\n",
              " 'Image',\n",
              " 'ImageFont',\n",
              " 'LAYOUT_BASIC',\n",
              " 'LAYOUT_RAQM',\n",
              " 'TransposedFont',\n",
              " '__builtins__',\n",
              " '__cached__',\n",
              " '__doc__',\n",
              " '__file__',\n",
              " '__loader__',\n",
              " '__name__',\n",
              " '__package__',\n",
              " '__spec__',\n",
              " '_imagingft_not_installed',\n",
              " 'base64',\n",
              " 'core',\n",
              " 'isDirectory',\n",
              " 'isPath',\n",
              " 'load',\n",
              " 'load_default',\n",
              " 'load_path',\n",
              " 'os',\n",
              " 'sys',\n",
              " 'truetype']"
            ]
          },
          "metadata": {},
          "execution_count": 7
        }
      ]
    },
    {
      "cell_type": "code",
      "metadata": {
        "colab": {
          "base_uri": "https://localhost:8080/",
          "height": 372
        },
        "id": "30muakZEkD9Y",
        "outputId": "5ec9bd16-f64b-4a2a-a03b-3a18fb1da467"
      },
      "source": [
        "img = Image.new('RGB', (w,l), color = (73, 109, 137))\n",
        "d = ImageDraw.Draw(img)\n",
        "#myFont=ImageFont.truetype('arial.ttf', size=16)\n",
        "#d.text((10,10),dmsg,fill=(255,255,0),font=myFont)\n",
        "d.text((10,10),dmsg,fill=(255,255,0))\n",
        "img"
      ],
      "execution_count": 6,
      "outputs": [
        {
          "output_type": "execute_result",
          "data": {
            "image/png": "[encoded data removed]",
            "text/plain": [
              "<PIL.Image.Image image mode=RGB size=1400x400 at 0x7F34E062C5D0>"
            ]
          },
          "metadata": {},
          "execution_count": 6
        }
      ]
    },
    {
      "cell_type": "code",
      "metadata": {
        "colab": {
          "base_uri": "https://localhost:8080/",
          "height": 267
        },
        "id": "TGgOUFwF4WAq",
        "outputId": "3076d7e5-0c2e-4667-f1be-b0c4aaa53d98"
      },
      "source": [
        "img = Image.new('RGB', (330, 250), color = (73, 109, 137))\n",
        "d = ImageDraw.Draw(img)\n",
        "d.text((10,10),\"This Image belongs to the preparation Network\", fill=(255,255,0)) \n",
        "#img.save('pil_text.png')\n",
        "img"
      ],
      "execution_count": 7,
      "outputs": [
        {
          "output_type": "execute_result",
          "data": {
            "image/png": "[encoded data removed]",
            "text/plain": [
              "<PIL.Image.Image image mode=RGB size=330x250 at 0x7F34E062C0D0>"
            ]
          },
          "metadata": {},
          "execution_count": 7
        }
      ]
    }
  ]
}